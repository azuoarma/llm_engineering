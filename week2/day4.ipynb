{
  "cells": [
    {
      "cell_type": "markdown",
      "id": "ddfa9ae6-69fe-444a-b994-8c4c5970a7ec",
      "metadata": {
        "id": "ddfa9ae6-69fe-444a-b994-8c4c5970a7ec"
      },
      "source": [
        "# Project - Airline AI Assistant\n",
        "\n",
        "We'll now bring together what we've learned to make an AI Customer Support assistant for an Airline"
      ]
    },
    {
      "cell_type": "code",
      "source": [
        "!pip install python-dotenv anthropic"
      ],
      "metadata": {
        "id": "HtddZJkXo6ub",
        "outputId": "b09e7f38-83d6-43ba-d570-7a79f65b759e",
        "colab": {
          "base_uri": "https://localhost:8080/"
        }
      },
      "id": "HtddZJkXo6ub",
      "execution_count": 2,
      "outputs": [
        {
          "output_type": "stream",
          "name": "stdout",
          "text": [
            "Collecting python-dotenv\n",
            "  Downloading python_dotenv-1.1.0-py3-none-any.whl.metadata (24 kB)\n",
            "Collecting anthropic\n",
            "  Downloading anthropic-0.54.0-py3-none-any.whl.metadata (25 kB)\n",
            "Requirement already satisfied: anyio<5,>=3.5.0 in /usr/local/lib/python3.11/dist-packages (from anthropic) (4.9.0)\n",
            "Requirement already satisfied: distro<2,>=1.7.0 in /usr/local/lib/python3.11/dist-packages (from anthropic) (1.9.0)\n",
            "Requirement already satisfied: httpx<1,>=0.25.0 in /usr/local/lib/python3.11/dist-packages (from anthropic) (0.28.1)\n",
            "Requirement already satisfied: jiter<1,>=0.4.0 in /usr/local/lib/python3.11/dist-packages (from anthropic) (0.10.0)\n",
            "Requirement already satisfied: pydantic<3,>=1.9.0 in /usr/local/lib/python3.11/dist-packages (from anthropic) (2.11.5)\n",
            "Requirement already satisfied: sniffio in /usr/local/lib/python3.11/dist-packages (from anthropic) (1.3.1)\n",
            "Requirement already satisfied: typing-extensions<5,>=4.10 in /usr/local/lib/python3.11/dist-packages (from anthropic) (4.14.0)\n",
            "Requirement already satisfied: idna>=2.8 in /usr/local/lib/python3.11/dist-packages (from anyio<5,>=3.5.0->anthropic) (3.10)\n",
            "Requirement already satisfied: certifi in /usr/local/lib/python3.11/dist-packages (from httpx<1,>=0.25.0->anthropic) (2025.4.26)\n",
            "Requirement already satisfied: httpcore==1.* in /usr/local/lib/python3.11/dist-packages (from httpx<1,>=0.25.0->anthropic) (1.0.9)\n",
            "Requirement already satisfied: h11>=0.16 in /usr/local/lib/python3.11/dist-packages (from httpcore==1.*->httpx<1,>=0.25.0->anthropic) (0.16.0)\n",
            "Requirement already satisfied: annotated-types>=0.6.0 in /usr/local/lib/python3.11/dist-packages (from pydantic<3,>=1.9.0->anthropic) (0.7.0)\n",
            "Requirement already satisfied: pydantic-core==2.33.2 in /usr/local/lib/python3.11/dist-packages (from pydantic<3,>=1.9.0->anthropic) (2.33.2)\n",
            "Requirement already satisfied: typing-inspection>=0.4.0 in /usr/local/lib/python3.11/dist-packages (from pydantic<3,>=1.9.0->anthropic) (0.4.1)\n",
            "Downloading python_dotenv-1.1.0-py3-none-any.whl (20 kB)\n",
            "Downloading anthropic-0.54.0-py3-none-any.whl (288 kB)\n",
            "\u001b[2K   \u001b[90m━━━━━━━━━━━━━━━━━━━━━━━━━━━━━━━━━━━━━━━━\u001b[0m \u001b[32m288.8/288.8 kB\u001b[0m \u001b[31m7.6 MB/s\u001b[0m eta \u001b[36m0:00:00\u001b[0m\n",
            "\u001b[?25hInstalling collected packages: python-dotenv, anthropic\n",
            "Successfully installed anthropic-0.54.0 python-dotenv-1.1.0\n"
          ]
        }
      ]
    },
    {
      "cell_type": "code",
      "execution_count": 5,
      "id": "8b50bbe2-c0b1-49c3-9a5c-1ba7efa2bcb4",
      "metadata": {
        "id": "8b50bbe2-c0b1-49c3-9a5c-1ba7efa2bcb4"
      },
      "outputs": [],
      "source": [
        "# imports\n",
        "\n",
        "import os\n",
        "import json\n",
        "from dotenv import load_dotenv\n",
        "from openai import OpenAI\n",
        "import gradio as gr"
      ]
    },
    {
      "cell_type": "code",
      "source": [
        "from google.colab import drive\n",
        "drive.mount('/content/drive', force_remount=True)\n",
        "\n",
        "# Load from the Drive path directly\n",
        "load_dotenv('/content/drive/MyDrive/LLM_engineering/.env')"
      ],
      "metadata": {
        "id": "UuzdQwIppQh_",
        "outputId": "e57d1768-c2da-4142-f58c-4a7ddff9c5c2",
        "colab": {
          "base_uri": "https://localhost:8080/"
        }
      },
      "id": "UuzdQwIppQh_",
      "execution_count": 7,
      "outputs": [
        {
          "output_type": "stream",
          "name": "stdout",
          "text": [
            "Mounted at /content/drive\n"
          ]
        },
        {
          "output_type": "execute_result",
          "data": {
            "text/plain": [
              "True"
            ]
          },
          "metadata": {},
          "execution_count": 7
        }
      ]
    },
    {
      "cell_type": "code",
      "execution_count": 8,
      "id": "747e8786-9da8-4342-b6c9-f5f69c2e22ae",
      "metadata": {
        "id": "747e8786-9da8-4342-b6c9-f5f69c2e22ae",
        "outputId": "0e4b2023-04e5-4628-84c1-e5da851f71a9",
        "colab": {
          "base_uri": "https://localhost:8080/"
        }
      },
      "outputs": [
        {
          "output_type": "stream",
          "name": "stdout",
          "text": [
            "OpenAI API Key exists and begins sk-proj-\n"
          ]
        }
      ],
      "source": [
        "# Initialization\n",
        "\n",
        "load_dotenv(override=True)\n",
        "\n",
        "openai_api_key = os.getenv('OPENAI_API_KEY')\n",
        "if openai_api_key:\n",
        "    print(f\"OpenAI API Key exists and begins {openai_api_key[:8]}\")\n",
        "else:\n",
        "    print(\"OpenAI API Key not set\")\n",
        "\n",
        "MODEL = \"gpt-4o-mini\"\n",
        "openai = OpenAI()\n",
        "\n",
        "# As an alternative, if you'd like to use Ollama instead of OpenAI\n",
        "# Check that Ollama is running for you locally (see week1/day2 exercise) then uncomment these next 2 lines\n",
        "# MODEL = \"llama3.2\"\n",
        "# openai = OpenAI(base_url='http://localhost:11434/v1', api_key='ollama')\n"
      ]
    },
    {
      "cell_type": "code",
      "execution_count": 9,
      "id": "0a521d84-d07c-49ab-a0df-d6451499ed97",
      "metadata": {
        "id": "0a521d84-d07c-49ab-a0df-d6451499ed97"
      },
      "outputs": [],
      "source": [
        "system_message = \"You are a helpful assistant for an Airline called FlightAI. \"\n",
        "system_message += \"Give short, courteous answers, no more than 1 sentence. \"\n",
        "system_message += \"Always be accurate. If you don't know the answer, say so.\""
      ]
    },
    {
      "cell_type": "code",
      "execution_count": 10,
      "id": "61a2a15d-b559-4844-b377-6bd5cb4949f6",
      "metadata": {
        "id": "61a2a15d-b559-4844-b377-6bd5cb4949f6",
        "outputId": "9d435573-5955-4525-d403-7dddb34d6277",
        "colab": {
          "base_uri": "https://localhost:8080/",
          "height": 646
        }
      },
      "outputs": [
        {
          "output_type": "stream",
          "name": "stdout",
          "text": [
            "It looks like you are running Gradio on a hosted a Jupyter notebook. For the Gradio app to work, sharing must be enabled. Automatically setting `share=True` (you can turn this off by setting `share=False` in `launch()` explicitly).\n",
            "\n",
            "Colab notebook detected. To show errors in colab notebook, set debug=True in launch()\n",
            "* Running on public URL: https://34e8a198091cd2ed26.gradio.live\n",
            "\n",
            "This share link expires in 1 week. For free permanent hosting and GPU upgrades, run `gradio deploy` from the terminal in the working directory to deploy to Hugging Face Spaces (https://huggingface.co/spaces)\n"
          ]
        },
        {
          "output_type": "display_data",
          "data": {
            "text/plain": [
              "<IPython.core.display.HTML object>"
            ],
            "text/html": [
              "<div><iframe src=\"https://34e8a198091cd2ed26.gradio.live\" width=\"100%\" height=\"500\" allow=\"autoplay; camera; microphone; clipboard-read; clipboard-write;\" frameborder=\"0\" allowfullscreen></iframe></div>"
            ]
          },
          "metadata": {}
        },
        {
          "output_type": "execute_result",
          "data": {
            "text/plain": []
          },
          "metadata": {},
          "execution_count": 10
        }
      ],
      "source": [
        "# This function looks rather simpler than the one from my video, because we're taking advantage of the latest Gradio updates\n",
        "\n",
        "def chat(message, history):\n",
        "    messages = [{\"role\": \"system\", \"content\": system_message}] + history + [{\"role\": \"user\", \"content\": message}]\n",
        "    response = openai.chat.completions.create(model=MODEL, messages=messages)\n",
        "    return response.choices[0].message.content\n",
        "\n",
        "gr.ChatInterface(fn=chat, type=\"messages\").launch()"
      ]
    },
    {
      "cell_type": "markdown",
      "id": "36bedabf-a0a7-4985-ad8e-07ed6a55a3a4",
      "metadata": {
        "id": "36bedabf-a0a7-4985-ad8e-07ed6a55a3a4"
      },
      "source": [
        "## Tools\n",
        "\n",
        "Tools are an incredibly powerful feature provided by the frontier LLMs.\n",
        "\n",
        "With tools, you can write a function, and have the LLM call that function as part of its response.\n",
        "\n",
        "Sounds almost spooky.. we're giving it the power to run code on our machine?\n",
        "\n",
        "Well, kinda."
      ]
    },
    {
      "cell_type": "code",
      "execution_count": 11,
      "id": "0696acb1-0b05-4dc2-80d5-771be04f1fb2",
      "metadata": {
        "id": "0696acb1-0b05-4dc2-80d5-771be04f1fb2"
      },
      "outputs": [],
      "source": [
        "# Let's start by making a useful function\n",
        "\n",
        "ticket_prices = {\"london\": \"$799\", \"paris\": \"$899\", \"tokyo\": \"$1400\", \"berlin\": \"$499\"}\n",
        "\n",
        "def get_ticket_price(destination_city):\n",
        "    print(f\"Tool get_ticket_price called for {destination_city}\")\n",
        "    city = destination_city.lower()\n",
        "    return ticket_prices.get(city, \"Unknown\")"
      ]
    },
    {
      "cell_type": "code",
      "execution_count": 12,
      "id": "80ca4e09-6287-4d3f-997d-fa6afbcf6c85",
      "metadata": {
        "id": "80ca4e09-6287-4d3f-997d-fa6afbcf6c85",
        "outputId": "6d655e63-9af4-4705-b460-bab2bb0c59f9",
        "colab": {
          "base_uri": "https://localhost:8080/",
          "height": 53
        }
      },
      "outputs": [
        {
          "output_type": "stream",
          "name": "stdout",
          "text": [
            "Tool get_ticket_price called for Berlin\n"
          ]
        },
        {
          "output_type": "execute_result",
          "data": {
            "text/plain": [
              "'$499'"
            ],
            "application/vnd.google.colaboratory.intrinsic+json": {
              "type": "string"
            }
          },
          "metadata": {},
          "execution_count": 12
        }
      ],
      "source": [
        "get_ticket_price(\"Berlin\")"
      ]
    },
    {
      "cell_type": "code",
      "execution_count": 13,
      "id": "4afceded-7178-4c05-8fa6-9f2085e6a344",
      "metadata": {
        "id": "4afceded-7178-4c05-8fa6-9f2085e6a344"
      },
      "outputs": [],
      "source": [
        "# There's a particular dictionary structure that's required to describe our function:\n",
        "\n",
        "price_function = {\n",
        "    \"name\": \"get_ticket_price\",\n",
        "    \"description\": \"Get the price of a return ticket to the destination city. Call this whenever you need to know the ticket price, for example when a customer asks 'How much is a ticket to this city'\",\n",
        "    \"parameters\": {\n",
        "        \"type\": \"object\",\n",
        "        \"properties\": {\n",
        "            \"destination_city\": {\n",
        "                \"type\": \"string\",\n",
        "                \"description\": \"The city that the customer wants to travel to\",\n",
        "            },\n",
        "        },\n",
        "        \"required\": [\"destination_city\"],\n",
        "        \"additionalProperties\": False\n",
        "    }\n",
        "}"
      ]
    },
    {
      "cell_type": "code",
      "execution_count": 14,
      "id": "bdca8679-935f-4e7f-97e6-e71a4d4f228c",
      "metadata": {
        "id": "bdca8679-935f-4e7f-97e6-e71a4d4f228c"
      },
      "outputs": [],
      "source": [
        "# And this is included in a list of tools:\n",
        "\n",
        "tools = [{\"type\": \"function\", \"function\": price_function}]"
      ]
    },
    {
      "cell_type": "markdown",
      "id": "c3d3554f-b4e3-4ce7-af6f-68faa6dd2340",
      "metadata": {
        "id": "c3d3554f-b4e3-4ce7-af6f-68faa6dd2340"
      },
      "source": [
        "## Getting OpenAI to use our Tool\n",
        "\n",
        "There's some fiddly stuff to allow OpenAI \"to call our tool\"\n",
        "\n",
        "What we actually do is give the LLM the opportunity to inform us that it wants us to run the tool.\n",
        "\n",
        "Here's how the new chat function looks:"
      ]
    },
    {
      "cell_type": "code",
      "execution_count": 15,
      "id": "ce9b0744-9c78-408d-b9df-9f6fd9ed78cf",
      "metadata": {
        "id": "ce9b0744-9c78-408d-b9df-9f6fd9ed78cf"
      },
      "outputs": [],
      "source": [
        "def chat(message, history):\n",
        "    messages = [{\"role\": \"system\", \"content\": system_message}] + history + [{\"role\": \"user\", \"content\": message}]\n",
        "    response = openai.chat.completions.create(model=MODEL, messages=messages, tools=tools)\n",
        "\n",
        "    if response.choices[0].finish_reason==\"tool_calls\":\n",
        "        message = response.choices[0].message\n",
        "        response, city = handle_tool_call(message)\n",
        "        messages.append(message)\n",
        "        messages.append(response)\n",
        "        response = openai.chat.completions.create(model=MODEL, messages=messages)\n",
        "\n",
        "    return response.choices[0].message.content"
      ]
    },
    {
      "cell_type": "code",
      "execution_count": 16,
      "id": "b0992986-ea09-4912-a076-8e5603ee631f",
      "metadata": {
        "id": "b0992986-ea09-4912-a076-8e5603ee631f"
      },
      "outputs": [],
      "source": [
        "# We have to write that function handle_tool_call:\n",
        "\n",
        "def handle_tool_call(message):\n",
        "    tool_call = message.tool_calls[0]\n",
        "    arguments = json.loads(tool_call.function.arguments)\n",
        "    city = arguments.get('destination_city')\n",
        "    price = get_ticket_price(city)\n",
        "    response = {\n",
        "        \"role\": \"tool\",\n",
        "        \"content\": json.dumps({\"destination_city\": city,\"price\": price}),\n",
        "        \"tool_call_id\": tool_call.id\n",
        "    }\n",
        "    return response, city"
      ]
    },
    {
      "cell_type": "code",
      "execution_count": 17,
      "id": "f4be8a71-b19e-4c2f-80df-f59ff2661f14",
      "metadata": {
        "id": "f4be8a71-b19e-4c2f-80df-f59ff2661f14",
        "outputId": "97358e48-7b63-4225-a4c1-57dbab2f5e50",
        "colab": {
          "base_uri": "https://localhost:8080/",
          "height": 646
        }
      },
      "outputs": [
        {
          "output_type": "stream",
          "name": "stdout",
          "text": [
            "It looks like you are running Gradio on a hosted a Jupyter notebook. For the Gradio app to work, sharing must be enabled. Automatically setting `share=True` (you can turn this off by setting `share=False` in `launch()` explicitly).\n",
            "\n",
            "Colab notebook detected. To show errors in colab notebook, set debug=True in launch()\n",
            "* Running on public URL: https://ba8957781c3a1d3ad7.gradio.live\n",
            "\n",
            "This share link expires in 1 week. For free permanent hosting and GPU upgrades, run `gradio deploy` from the terminal in the working directory to deploy to Hugging Face Spaces (https://huggingface.co/spaces)\n"
          ]
        },
        {
          "output_type": "display_data",
          "data": {
            "text/plain": [
              "<IPython.core.display.HTML object>"
            ],
            "text/html": [
              "<div><iframe src=\"https://ba8957781c3a1d3ad7.gradio.live\" width=\"100%\" height=\"500\" allow=\"autoplay; camera; microphone; clipboard-read; clipboard-write;\" frameborder=\"0\" allowfullscreen></iframe></div>"
            ]
          },
          "metadata": {}
        },
        {
          "output_type": "execute_result",
          "data": {
            "text/plain": []
          },
          "metadata": {},
          "execution_count": 17
        }
      ],
      "source": [
        "gr.ChatInterface(fn=chat, type=\"messages\").launch()"
      ]
    }
  ],
  "metadata": {
    "kernelspec": {
      "display_name": "Python 3 (ipykernel)",
      "language": "python",
      "name": "python3"
    },
    "language_info": {
      "codemirror_mode": {
        "name": "ipython",
        "version": 3
      },
      "file_extension": ".py",
      "mimetype": "text/x-python",
      "name": "python",
      "nbconvert_exporter": "python",
      "pygments_lexer": "ipython3",
      "version": "3.11.11"
    },
    "colab": {
      "provenance": []
    }
  },
  "nbformat": 4,
  "nbformat_minor": 5
}